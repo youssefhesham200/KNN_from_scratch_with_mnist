{
 "cells": [
  {
   "cell_type": "markdown",
   "id": "2b90250a",
   "metadata": {},
   "source": [
    "### I worked on mnist dataset (image classification) from scratch, our process contain some stages  "
   ]
  },
  {
   "cell_type": "markdown",
   "id": "0317428c",
   "metadata": {},
   "source": [
    "### first stage importing important libraries"
   ]
  },
  {
   "cell_type": "code",
   "execution_count": 1,
   "id": "177bf952",
   "metadata": {},
   "outputs": [],
   "source": [
    "from tensorflow import keras\n",
    "import pandas as pd\n",
    "import numpy as np\n",
    "import matplotlib.pyplot as plt\n",
    "from scipy import ndimage, stats"
   ]
  },
  {
   "cell_type": "markdown",
   "id": "94a7ee95",
   "metadata": {},
   "source": [
    "### second stage split dataset into \n",
    "1- train data consist of 20000 simple\n",
    "\n",
    "2- test data consist of 1000 simple  "
   ]
  },
  {
   "cell_type": "code",
   "execution_count": 2,
   "id": "0d35b6e0",
   "metadata": {},
   "outputs": [
    {
     "data": {
      "text/plain": [
       "<matplotlib.image.AxesImage at 0x7fc988e300a0>"
      ]
     },
     "execution_count": 2,
     "metadata": {},
     "output_type": "execute_result"
    },
    {
     "data": {
      "image/png": "[encoded data removed]",
      "text/plain": [
       "<Figure size 432x288 with 1 Axes>"
      ]
     },
     "metadata": {
      "needs_background": "light"
     },
     "output_type": "display_data"
    }
   ],
   "source": [
    "(x_train,y_train) , (x_test, y_test) = keras.datasets.mnist.load_data() \n",
    "x_train = x_train[:20000]\n",
    "y_train = y_train[:20000]\n",
    "x_test = x_test[:1000]\n",
    "y_test = y_test[:1000]\n",
    "\n",
    "plt.imshow(x_test[10])"
   ]
  },
  {
   "cell_type": "markdown",
   "id": "c48d7cb3",
   "metadata": {},
   "source": [
    "### third stage is extracting features from images\n",
    "#### first split each image into small pics \n",
    "i splited each image into -> 16 block each of them represented by -> 7 * 7 pixels                                 \n",
    "I will use center of mass of each block in image that return (x,y) coordinates for each block "
   ]
  },
  {
   "cell_type": "markdown",
   "id": "f4fa98be",
   "metadata": {},
   "source": [
    "centroid function calculate and return center of mass of each block \n",
    "\n",
    "input -> small pic \n",
    "output -> (x,y) coordinates of block and if pic is all black return (3.5, 3.5) because pic is 7 * 7 "
   ]
  },
  {
   "cell_type": "code",
   "execution_count": 3,
   "id": "6d8ed64e",
   "metadata": {},
   "outputs": [],
   "source": [
    "def centroid(grid):\n",
    "    if np.all((grid == 0)):\n",
    "        return (3.5,3.5)\n",
    "    return ndimage.measurements.center_of_mass(grid)"
   ]
  },
  {
   "cell_type": "markdown",
   "id": "c877633e",
   "metadata": {},
   "source": [
    "4 blocks in width and 4 blocks in hight then we have 16 small pics \n",
    "\n",
    "crop_image function split image into 16 small pics\n",
    "then call centroid function calculate (x,y) coordinates of block\n",
    "then add all centroids into one vector and return it for each image"
   ]
  },
  {
   "cell_type": "code",
   "execution_count": 4,
   "id": "25ee1e46",
   "metadata": {
    "scrolled": true
   },
   "outputs": [],
   "source": [
    "def crop_feature(test_image, blocks):\n",
    "    rows , cols = int(test_image.shape[0] / blocks), int(test_image.shape[1] / blocks)\n",
    "    vector = list()\n",
    "    k,f = cols,0\n",
    "    for i in range(blocks):\n",
    "        c,z = rows,0\n",
    "        for r in range(blocks):\n",
    "                window = test_image[f:k,z:c]\n",
    "                c += rows\n",
    "                z += rows\n",
    "                x,y = centroid(window)\n",
    "                vector.extend([x,y])\n",
    "        k += cols\n",
    "        f += cols\n",
    "    return np.array(vector)"
   ]
  },
  {
   "cell_type": "markdown",
   "id": "300d16c4",
   "metadata": {},
   "source": [
    "### convert x_train and x_test to its new vectors (centroids)"
   ]
  },
  {
   "cell_type": "code",
   "execution_count": 5,
   "id": "b7028769",
   "metadata": {},
   "outputs": [],
   "source": [
    "x_train1 = list() \n",
    "x_test1  = list() \n",
    "\n",
    "for i in x_train:\n",
    "    x_train1.append(crop_feature(i,4))\n",
    "\n",
    "for i in x_test:\n",
    "    x_test1.append(crop_feature(i,4))"
   ]
  },
  {
   "cell_type": "markdown",
   "id": "1833d528",
   "metadata": {},
   "source": [
    "### implementing KNN from scartch \n",
    "1- calculate euclidean distance between each point from x_test and all point from x_train \n",
    "\n",
    "2- sort distances in ascending order\n",
    "\n",
    "3- return k shortest distances from each point"
   ]
  },
  {
   "cell_type": "code",
   "execution_count": 6,
   "id": "0e0e5b4a",
   "metadata": {},
   "outputs": [],
   "source": [
    "class KNN():\n",
    "\n",
    "    def __init__(self):\n",
    "        pass\n",
    "        \n",
    "    def dist(self, point1, point2):\n",
    "        return np.sqrt(np.sum(np.power((point1-point2), 2)))\n",
    "    \n",
    "    \n",
    "    def predict(self, x_train, x_test, y_train, k):\n",
    "        y_train = pd.DataFrame(y_train)\n",
    "        y_pred = list()\n",
    "        \n",
    "        for i in x_test:\n",
    "            dists = list()\n",
    "            for j in x_train:\n",
    "                dis = self.dist(i,j)\n",
    "                dists.append(dis)\n",
    "\n",
    "            \n",
    "            df_dists = pd.DataFrame(data=dists, columns=['dist'], index = y_train[0])\n",
    "            \n",
    "            df_k = df_dists.sort_values(by=['dist'], axis=0)[:k]\n",
    "            df_k = df_k.index\n",
    "            \n",
    "            out = stats.mode(df_k)[0][0]\n",
    "            \n",
    "            y_pred.append(out)\n",
    "            \n",
    "        return y_pred\n",
    "    \n",
    "    def accuracy(self, y_pred, y_test):\n",
    "        con = 0\n",
    "        for i,j in zip(y_pred, y_test):\n",
    "            if(i == j):\n",
    "               con += 1 \n",
    "        return (con / len(y_pred)) * 100"
   ]
  },
  {
   "cell_type": "markdown",
   "id": "a763be5f",
   "metadata": {},
   "source": [
    "### test accuracy with different values of k \n",
    "##### the best accuracy when we make k by 5 \n",
    "##### the lowest by k = 7 because when k increase then normal, voting be harder "
   ]
  },
  {
   "cell_type": "code",
   "execution_count": 7,
   "id": "f521cff3",
   "metadata": {},
   "outputs": [
    {
     "data": {
      "text/plain": [
       "87.4"
      ]
     },
     "execution_count": 7,
     "metadata": {},
     "output_type": "execute_result"
    }
   ],
   "source": [
    "model = KNN()\n",
    "\n",
    "y_pred = model.predict(x_train1, x_test1, y_train, 1)\n",
    "\n",
    "model.accuracy(y_pred, y_test)"
   ]
  },
  {
   "cell_type": "code",
   "execution_count": 8,
   "id": "1c24db18",
   "metadata": {},
   "outputs": [
    {
     "data": {
      "text/plain": [
       "86.9"
      ]
     },
     "execution_count": 8,
     "metadata": {},
     "output_type": "execute_result"
    }
   ],
   "source": [
    "y_pred = model.predict(x_train1, x_test1, y_train, 3)\n",
    "\n",
    "model.accuracy(y_pred, y_test)"
   ]
  },
  {
   "cell_type": "code",
   "execution_count": 9,
   "id": "c69bb4c7",
   "metadata": {},
   "outputs": [
    {
     "data": {
      "text/plain": [
       "87.8"
      ]
     },
     "execution_count": 9,
     "metadata": {},
     "output_type": "execute_result"
    }
   ],
   "source": [
    "y_pred = model.predict(x_train1, x_test1, y_train, 5)\n",
    "\n",
    "model.accuracy(y_pred, y_test)"
   ]
  },
  {
   "cell_type": "code",
   "execution_count": 11,
   "id": "f82835df",
   "metadata": {},
   "outputs": [
    {
     "data": {
      "text/plain": [
       "85.7"
      ]
     },
     "execution_count": 11,
     "metadata": {},
     "output_type": "execute_result"
    }
   ],
   "source": [
    "y_pred = model.predict(x_train1, x_test1, y_train, 13)\n",
    "\n",
    "model.accuracy(y_pred, y_test)"
   ]
  }
 ],
 "metadata": {
  "kernelspec": {
   "display_name": "Python 3",
   "language": "python",
   "name": "python3"
  },
  "language_info": {
   "codemirror_mode": {
    "name": "ipython",
    "version": 3
   },
   "file_extension": ".py",
   "mimetype": "text/x-python",
   "name": "python",
   "nbconvert_exporter": "python",
   "pygments_lexer": "ipython3",
   "version": "3.8.8"
  }
 },
 "nbformat": 4,
 "nbformat_minor": 5
}
